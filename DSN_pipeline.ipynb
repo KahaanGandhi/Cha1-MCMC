{
 "cells": [
  {
   "cell_type": "code",
   "execution_count": 1,
   "metadata": {},
   "outputs": [],
   "source": [
    "import os\n",
    "import numpy as np\n",
    "import matplotlib\n",
    "import matplotlib.pyplot as plt\n",
    "import matplotlib.ticker as ticker\n",
    "from matplotlib.animation import FuncAnimation\n",
    "from IPython.display import HTML\n",
    "from tqdm.notebook import tqdm\n",
    "\n",
    "from classes import *\n",
    "from constants import *"
   ]
  },
  {
   "attachments": {},
   "cell_type": "markdown",
   "metadata": {},
   "source": [
    "### Velocity space in ASCII format $\\rightarrow$ frequency space NumPy format"
   ]
  },
  {
   "cell_type": "code",
   "execution_count": 24,
   "metadata": {},
   "outputs": [],
   "source": [
    "# Parse ASCII format DSN observations\n",
    "def process_file(filepath, rest_frequency):\n",
    "    with open(filepath, \"r\") as f:\n",
    "        content = f.readlines()\n",
    "\n",
    "    data = []\n",
    "    for line in content:\n",
    "        if line.strip():  # Skip empty lines\n",
    "            parsed_line = list(map(float, line.split()))\n",
    "            data.append(parsed_line)\n",
    "\n",
    "    velocities, intensities = np.array(data).T\n",
    "    frequencies = velocity_to_frequency(velocities, rest_frequency)\n",
    "\n",
    "    return frequencies, intensities\n",
    "\n",
    "def velocity_to_frequency(velocity, rest_frequency):\n",
    "    c = 299792.458\n",
    "    frequency_shift = (velocity / c) * rest_frequency\n",
    "    frequencies = rest_frequency - frequency_shift\n",
    "    return frequencies\n",
    "\n",
    "# Currently set up for template species HC5N...\n",
    "def plot_spectrum(frequencies, intensities, label, ax):\n",
    "    ax.plot(frequencies, intensities, label=f'HC5N {label}')\n",
    "    ax.xaxis.set_major_formatter(ticker.FormatStrFormatter('%.2f'))\n",
    "    ax.set_title(f'HC5N {label} Spectrum')\n",
    "    ax.set_xlabel('Frequency (MHz)')\n",
    "    ax.set_ylabel('Intensity')\n",
    "    ax.grid(True)"
   ]
  },
  {
   "cell_type": "code",
   "execution_count": null,
   "metadata": {},
   "outputs": [],
   "source": [
    "fig, axes = plt.subplots(2, 2, figsize=(20, 10)) \n",
    "axes = axes.flatten()\n",
    "\n",
    "spectra = [\n",
    "    (\"DSN_data/CHA-C2-HC5N7-6_1.86386164E+04.spec\", 18638.6164, '7-6'),\n",
    "    (\"DSN_data/CHA-C2-HC5N8-7_2.13012614E+04.spec\", 21301.2614, '8-7'),\n",
    "    (\"DSN_data/CHA-C2-HC5N9-8_2.39639007E+04.spec\", 23963.9007, '9-8'),\n",
    "    (\"DSN_data/CHA-C2-HC5N10-9_2.6626543E+04.spec\", 26626.543, '10-9')\n",
    "]\n",
    "\n",
    "all_frequencies = []\n",
    "all_intensities = []\n",
    "\n",
    "for i, (path, freq, label) in enumerate(spectra):\n",
    "    frequencies, intensities = process_file(path, freq)\n",
    "    plot_spectrum(frequencies, intensities, label, axes[i])\n",
    "    all_frequencies.extend(frequencies)\n",
    "    all_intensities.extend(intensities)\n",
    "\n",
    "fig_combined, ax_combined = plt.subplots(figsize=(10, 5))\n",
    "ax_combined.plot(all_frequencies, all_intensities, label='Combined HC5N Spectrum')\n",
    "ax_combined.set_title('Combined HC5N Spectrum')\n",
    "ax_combined.set_xlabel('Frequency (MHz)')\n",
    "ax_combined.set_ylabel('Intensity')\n",
    "ax_combined.legend()\n",
    "ax_combined.grid(True)\n",
    "\n",
    "plt.tight_layout()\n",
    "plt.show()"
   ]
  },
  {
   "cell_type": "code",
   "execution_count": 26,
   "metadata": {},
   "outputs": [
    {
     "name": "stdout",
     "output_type": "stream",
     "text": [
      "Data saved to /Users/kahaan/Desktop/Cha1-MCMC/DSN_data/C2_hc5n_hfs_chunks.npy\n"
     ]
    }
   ],
   "source": [
    "BASE_DIR = os.getcwd()\n",
    "DATA_PATH = os.path.join(BASE_DIR, 'DSN_data', 'C2_hc5n_hfs_chunks.npy')\n",
    "\n",
    "np.save(DATA_PATH, np.array([all_frequencies, all_intensities]))\n",
    "print(f\"Data saved to {DATA_PATH}\")"
   ]
  },
  {
   "attachments": {},
   "cell_type": "markdown",
   "metadata": {},
   "source": [
    "### Frequency space in ASCII format $\\rightarrow$ frequency space NumPy format"
   ]
  },
  {
   "cell_type": "code",
   "execution_count": 16,
   "metadata": {},
   "outputs": [],
   "source": [
    "def process_ascii(filepath):\n",
    "    with open(filepath, \"r\") as f:\n",
    "        content = f.readlines()\n",
    "\n",
    "    data = []\n",
    "    for line in content:\n",
    "        if line.strip():  # Skip empty lines\n",
    "            parsed_line = list(map(float, line.split()))\n",
    "            data.append(parsed_line)\n",
    "\n",
    "    frequencies, intensities, _, _ = np.array(data).T\n",
    "    \n",
    "    return frequencies, intensities"
   ]
  },
  {
   "cell_type": "code",
   "execution_count": 21,
   "metadata": {},
   "outputs": [
    {
     "name": "stdout",
     "output_type": "stream",
     "text": [
      "Data saved to /Users/kahaan/Desktop/Cha1-MCMC/DSN_data/MMS1_hc5n_hfs_chunks.npy\n"
     ]
    }
   ],
   "source": [
    "freq1, int1 = process_ascii(\"./DSN_data/CHA-MMS1-HC5N10-9.spec\")\n",
    "freq2, int2 = process_ascii(\"./DSN_data/CHA-MMS1-HC5N9-8.spec\")\n",
    "freq3, int3 = process_ascii(\"./DSN_data/CHA-MMS1-HC5N8-7.spec\")\n",
    "freq4, int4 = process_ascii(\"./DSN_data/CHA-MMS1-HC5N7-6.spec\")\n",
    "\n",
    "all_frequencies = []\n",
    "all_intensities = []\n",
    "\n",
    "all_frequencies.extend(freq4)\n",
    "all_frequencies.extend(freq3)\n",
    "all_frequencies.extend(freq2)\n",
    "all_frequencies.extend(freq1)\n",
    "\n",
    "all_intensities.extend(int4)\n",
    "all_intensities.extend(int3)\n",
    "all_intensities.extend(int2)\n",
    "all_intensities.extend(int1)\n",
    "\n",
    "BASE_DIR = os.getcwd()\n",
    "DATA_PATH = os.path.join(BASE_DIR, 'DSN_data', 'MMS1_hc5n_hfs_chunks.npy')\n",
    "\n",
    "np.save(DATA_PATH, np.array([all_frequencies, all_intensities]))\n",
    "print(f\"Data saved to {DATA_PATH}\")"
   ]
  },
  {
   "attachments": {},
   "cell_type": "markdown",
   "metadata": {},
   "source": [
    "### MCMC Sampling Animation"
   ]
  },
  {
   "cell_type": "code",
   "execution_count": null,
   "metadata": {},
   "outputs": [],
   "source": [
    "matplotlib.rcParams['animation.embed_limit'] = 1000\n",
    "\n",
    "def animate_corner(chain_path, param_labels, save_path=None):\n",
    "    plt.rcParams.update({\n",
    "        \"text.usetex\": False,\n",
    "        \"font.family\": \"DejaVu Sans\"\n",
    "    })\n",
    "\n",
    "    # Load MCMC chain\n",
    "    chain = np.load(chain_path)\n",
    "    burn_in = int(0.2 * chain.shape[1])\n",
    "    chain = chain[:, burn_in:, :]\n",
    "    samples = chain.reshape((-1, chain.shape[-1]))\n",
    "\n",
    "    # Set axis limits using complete sample set\n",
    "    fig_corner_test = corner.corner(samples, labels=param_labels)\n",
    "    axes_corner_test = np.array(fig_corner_test.axes).reshape(len(param_labels), len(param_labels))\n",
    "    axis_limits = [(ax.get_xlim(), ax.get_ylim()) for ax in axes_corner_test.ravel()]\n",
    "    plt.close(fig_corner_test)\n",
    "\n",
    "    fig_corner, axes_corner = plt.subplots(len(param_labels), len(param_labels), figsize=(10, 10))\n",
    "\n",
    "    def update_corner(frame):\n",
    "        for ax, (xlim, ylim) in zip(axes_corner.ravel(), axis_limits):\n",
    "            ax.clear()\n",
    "            ax.set_xlim(xlim)\n",
    "            ax.set_ylim(ylim)\n",
    "        corner.hist2d_kwargs = {'bins': 50, 'plot_datapoints': True, 'plot_density': True, 'plot_contours': True, 'fill_contours': False, 'show_titles': True, 'title_fmt': '.1e'}\n",
    "        corner.corner(samples[:frame, :], labels=param_labels, quantiles=[0.16, 0.5, 0.84], title_kwargs={\"fontsize\": 12}, fig=fig_corner, **corner.hist2d_kwargs)\n",
    "        return axes_corner.ravel()\n",
    "\n",
    "    # Emphasis early exploration with nonlinear timesteps\n",
    "    total_samples = len(samples)\n",
    "    initial_frames = np.geomspace(100, total_samples * 0.2, 100, dtype=int)             # Logarithmic distribution for the first 20%\n",
    "    remaining_frames = np.linspace(total_samples * 0.2, total_samples, 200, dtype=int)  # Linear distribution for the remaining 80%\n",
    "    frames_corner = np.unique(np.concatenate((initial_frames, remaining_frames)))\n",
    "\n",
    "    ani_corner = FuncAnimation(fig_corner, update_corner, frames=tqdm(frames_corner), blit=False, interval=33)  # Interval in milliseconds for approx 30 FPS\n",
    "    display(HTML(ani_corner.to_jshtml()))\n",
    "    if save_path:\n",
    "        ani_corner.save(save_path, writer='pillow', fps=30)  # Ensure 30 FPS in output file\n",
    "\n",
    "animate_corner(\n",
    "    '/Users/kahaan/Desktop/Cha1-MCMC/DSN_fit_results/hc5n_hfs/chain_DSN.npy',\n",
    "    [\n",
    "        'Source Size [″]', \n",
    "        'Ncol [cm⁻²]', \n",
    "        'Tex [K]',\n",
    "        'vlsr [km s⁻¹]', \n",
    "        'dV [km s⁻¹]'\n",
    "    ],\n",
    "    save_path='corner_animation.gif'\n",
    ")"
   ]
  }
 ],
 "metadata": {
  "kernelspec": {
   "display_name": "myenv",
   "language": "python",
   "name": "python3"
  },
  "language_info": {
   "codemirror_mode": {
    "name": "ipython",
    "version": 3
   },
   "file_extension": ".py",
   "mimetype": "text/x-python",
   "name": "python",
   "nbconvert_exporter": "python",
   "pygments_lexer": "ipython3",
   "version": "3.9.6"
  },
  "orig_nbformat": 4
 },
 "nbformat": 4,
 "nbformat_minor": 2
}
