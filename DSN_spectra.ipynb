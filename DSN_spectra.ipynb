{
 "cells": [
  {
   "attachments": {},
   "cell_type": "markdown",
   "metadata": {},
   "source": [
    "Scripts to plot the MCMC-simulated spectra against DSN observations, visualize each rotational transition, and extract the corresponding model frequencies and intensities for spectral line stacking analysis. Bounds for HC<sub>5</sub>N and HC<sub>7</sub>N in Cha-C2 are included, and others can be added following the same format."
   ]
  },
  {
   "cell_type": "code",
   "execution_count": null,
   "metadata": {},
   "outputs": [],
   "source": [
    "import numpy as np\n",
    "import pandas as pd\n",
    "import sys\n",
    "import matplotlib.pyplot as plt\n",
    "from contextlib import contextmanager\n",
    "\n",
    "from spectral_simulator.classes import *\n",
    "from spectral_simulator.constants import *\n",
    "from spectral_simulator.functions import *\n",
    "from MCMC_scripts.Cha1_DSS43 import *"
   ]
  },
  {
   "cell_type": "code",
   "execution_count": null,
   "metadata": {},
   "outputs": [],
   "source": [
    "with suppress_output():\n",
    "    BASE_DIR = os.getcwd()\n",
    "\n",
    "    config = {\n",
    "        'mol_name': 'hc7n_hfs',\n",
    "        'fit_folder': os.path.join(BASE_DIR, 'DSN_fit_results'),\n",
    "        'cat_folder': os.path.join(BASE_DIR, 'CDMS_catalog'),\n",
    "        'data_path': os.path.join(BASE_DIR, 'DSN_data', 'cha_c2_hc5n_example.npy'),\n",
    "        'block_interlopers': True,\n",
    "        'nruns': 1000,\n",
    "        'restart': False,\n",
    "        'prior_path': os.path.join(BASE_DIR, 'DSN_fit_results', 'hc5n_hfs', 'chain_template.npy'),\n",
    "        'template_run': False,\n",
    "        'parallelize': True,\n",
    "    }\n",
    "\n",
    "    datafile, catalogue = init_setup(\n",
    "        fit_folder=config['fit_folder'],\n",
    "        cat_folder=config['cat_folder'],\n",
    "        data_path=config['data_path'],\n",
    "        mol_name=config['mol_name'],\n",
    "        block_interlopers=config['block_interlopers']\n",
    "    )\n",
    "\n",
    "    fit_multi_gaussian(\n",
    "        datafile=datafile,\n",
    "        fit_folder=config['fit_folder'],\n",
    "        catalogue=catalogue,\n",
    "        nruns=config['nruns'],\n",
    "        mol_name=config['mol_name'],\n",
    "        prior_path=config['prior_path'],\n",
    "        restart=config['restart'],\n",
    "        template_run=config['template_run'],\n",
    "        parallelize=config['parallelize']\n",
    "    )"
   ]
  },
  {
   "cell_type": "code",
   "execution_count": null,
   "metadata": {},
   "outputs": [],
   "source": [
    "source_size = 47.07\n",
    "Ncol        = 6.04E10\n",
    "Tex         = 7.55\n",
    "dV          = 0.79\n",
    "vlsr        = 4.22\n",
    "\n",
    "datagrid = np.load(datafile, allow_pickle=True)\n",
    "dsn_freqs, dsn_ints = np.array(datagrid[0]), np.array(datagrid[1])\n",
    "\n",
    "# Bounds can be identified by hand at this step\n",
    "print(dsn_freqs)\n",
    "print(dsn_ints)"
   ]
  },
  {
   "cell_type": "code",
   "execution_count": null,
   "metadata": {},
   "outputs": [],
   "source": [
    "catfile = os.path.join(config['cat_folder'], f\"{config['mol_name']}.cat\")\n",
    "mol_cat = MolCat(config['mol_name'], catfile)\n",
    "freqs, ints, taus = predict_intensities(source_size, Ncol, Tex, dV, mol_cat)\n",
    "model_ints = make_model(np.array(freqs), np.array(ints), source_size, dsn_freqs, dsn_ints, vlsr, dV, Tex)\n",
    "\n",
    "# Bounds for HC5N in Cha-C2\n",
    "bounds = [\n",
    "    (18638.518485873, 18638.701607659),\n",
    "    (21301.14895746, 21301.36259954),\n",
    "    (23963.7778851, 23964.02204748),\n",
    "    (26626.42084476, 26626.66500714)\n",
    "]\n",
    "\n",
    "print(dsn_freqs)\n",
    "print(model_ints)\n",
    "\n",
    "fig, axs = plt.subplots(2, 2, figsize=(14, 10))\n",
    "\n",
    "for i, (lower_bound, upper_bound) in enumerate(bounds):\n",
    "    mask = (dsn_freqs >= lower_bound) & (dsn_freqs <= upper_bound)\n",
    "    filtered_dsn_freqs = dsn_freqs[mask]\n",
    "    filtered_dsn_ints = dsn_ints[mask]\n",
    "    filtered_model_ints = model_ints[mask]\n",
    "    \n",
    "    ax = axs[i // 2, i % 2]\n",
    "    ax.plot(filtered_dsn_freqs, filtered_dsn_ints, label='DSN Intensities')\n",
    "    ax.plot(filtered_dsn_freqs, filtered_model_ints, label='Model Intensities')\n",
    "    ax.scatter(filtered_dsn_freqs, filtered_dsn_ints)\n",
    "    ax.scatter(filtered_dsn_freqs, filtered_model_ints)\n",
    "    ax.set_xlim(lower_bound, upper_bound)\n",
    "    ax.legend()\n",
    "\n",
    "plt.tight_layout()\n",
    "plt.show()"
   ]
  }
 ],
 "metadata": {
  "kernelspec": {
   "display_name": "myenv",
   "language": "python",
   "name": "python3"
  },
  "language_info": {
   "name": "python",
   "version": "3.9.6"
  },
  "orig_nbformat": 4
 },
 "nbformat": 4,
 "nbformat_minor": 2
}
