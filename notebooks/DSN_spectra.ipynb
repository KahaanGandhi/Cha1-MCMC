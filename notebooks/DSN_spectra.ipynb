{
 "cells": [
  {
   "attachments": {},
   "cell_type": "markdown",
   "metadata": {},
   "source": [
    "Scripts to plot the MCMC-simulated spectra against DSN observations, visualize each rotational transition, and extract the corresponding model frequencies and intensities for spectral line stacking analysis. Bounds for HC<sub>5</sub>N in Cha-MMS1 are included, and others can be added following the same format."
   ]
  },
  {
   "cell_type": "code",
   "execution_count": null,
   "metadata": {},
   "outputs": [],
   "source": [
    "import os\n",
    "import sys\n",
    "import numpy as np\n",
    "import pandas as pd\n",
    "import matplotlib.pyplot as plt\n",
    "from contextlib import contextmanager\n",
    "\n",
    "sys.path.append(os.path.abspath(os.path.join(os.getcwd(), os.pardir)))\n",
    "\n",
    "from spectral_simulator.classes import *\n",
    "from spectral_simulator.constants import *\n",
    "from spectral_simulator.functions import *\n",
    "from inference import *"
   ]
  },
  {
   "attachments": {},
   "cell_type": "markdown",
   "metadata": {},
   "source": [
    "Load DSN data to extract frequencies and intensities. Ensure you have previously run `inference.py` on your molecule of interest. Otherwise, the required data file will not exist."
   ]
  },
  {
   "cell_type": "code",
   "execution_count": null,
   "metadata": {},
   "outputs": [],
   "source": [
    "mol_name = 'hc5n_hfs'\n",
    " \n",
    "BASE_DIR = os.path.abspath(os.path.join(os.getcwd(), os.pardir))\n",
    "fit_folder = os.path.join(BASE_DIR, 'results')\n",
    "datafile_path = os.path.join(fit_folder, mol_name, f\"all_{mol_name}_lines_DSN_freq_space.npy\")\n",
    "datagrid = np.load(datafile_path, allow_pickle=True)\n",
    "dsn_freqs = np.array(datagrid[0])\n",
    "dsn_ints = np.array(datagrid[1])\n",
    "\n",
    "print(f\"Frequencies:\\n{dsn_freqs}\")\n",
    "print(f\"\\nIntensities:\\n{dsn_ints}\")"
   ]
  },
  {
   "attachments": {},
   "cell_type": "markdown",
   "metadata": {},
   "source": [
    "Inspect DSN frequencies (above) to manually define frequency bounds for spectral lines of interest. "
   ]
  },
  {
   "cell_type": "code",
   "execution_count": null,
   "metadata": {},
   "outputs": [],
   "source": [
    "def plot_frequency_range(lower_bound, upper_bound):\n",
    "    mask = (dsn_freqs >= lower_bound) & (dsn_freqs <= upper_bound)\n",
    "    filtered_freqs = dsn_freqs[mask]\n",
    "    filtered_ints = dsn_ints[mask]\n",
    "\n",
    "    plt.figure(figsize=(10, 4))\n",
    "    plt.plot(filtered_freqs, filtered_ints, label='Observed Data', color='blue')\n",
    "    plt.xlabel('Frequency (MHz)')\n",
    "    plt.ylabel('Intensity')\n",
    "    plt.title(f'Observed Spectrum from {lower_bound} MHz to {upper_bound} MHz')\n",
    "    plt.legend()\n",
    "    plt.show()\n",
    "    \n",
    "bounds = [\n",
    "    (18638.51316476, 18638.69627022),\n",
    "    (21301.16639020, 21301.34949566),\n",
    "    (23963.78846446, 23964.00208749),\n",
    "]\n",
    "\n",
    "# for lower_bound, upper_bound in bounds:\n",
    "#     plot_frequency_range(lower_bound, upper_bound)"
   ]
  },
  {
   "attachments": {},
   "cell_type": "markdown",
   "metadata": {},
   "source": [
    "Define best-fit parameters from MCMC run."
   ]
  },
  {
   "cell_type": "code",
   "execution_count": null,
   "metadata": {},
   "outputs": [],
   "source": [
    "source_size = 52.00    # arcseconds\n",
    "Ncol        = 3.24e12  # cm^-2\n",
    "Tex         = 7.53     # K\n",
    "dV          = 0.78     # km/s\n",
    "vlsr        = 4.11     # km/s"
   ]
  },
  {
   "attachments": {},
   "cell_type": "markdown",
   "metadata": {},
   "source": [
    "To generate model spectrum using best-fit parameters, we use spectral simulator functions used in MCMC."
   ]
  },
  {
   "cell_type": "code",
   "execution_count": null,
   "metadata": {},
   "outputs": [],
   "source": [
    "aligned_velocity = 4.10  # Aligned velocity (m/s)\n",
    "dish_size = 70           # Telescope dish diameter (m)\n",
    "lower_limit = 18000      # Lower frequency limit (MHz)\n",
    "upper_limit = 25000      # Upper frequency limit (MHz)\n",
    "\n",
    "# Simulate molecular spectral emission lines\n",
    "def predict_intensities(Ncol, Tex, dV, mol_cat, source_size):\n",
    "    obs_params = ObsParams(\"test\", source_size=source_size)\n",
    "    sim = MolSim(\"mol sim\", mol_cat, obs_params, vlsr=[aligned_velocity], C=[Ncol], dV=[dV], T=[Tex],\n",
    "                 ll=[lower_limit], ul=[upper_limit], gauss=False)\n",
    "    freq_sim = np.array(sim.freq_sim)\n",
    "    int_sim = np.array(sim.int_sim)\n",
    "    tau_sim = np.array(sim.tau_sim)\n",
    "    return freq_sim, int_sim, tau_sim\n",
    "\n",
    "# Apply beam dilution correction\n",
    "def apply_beam(frequency, intensity, source_size, dish_size):\n",
    "    wavelength = cm / (frequency * 1e6)\n",
    "    beam_size = wavelength * 206265 * 1.22 / dish_size  # 206265 converts radians to arcseconds\n",
    "    dilution_factor = source_size ** 2 / (beam_size ** 2 + source_size ** 2)\n",
    "    intensity_diluted = intensity * dilution_factor\n",
    "    return intensity_diluted\n",
    "\n",
    "# Construct the model spectrum\n",
    "def make_model(freqs, intensities, source_size, datagrid_freq, datagrid_ints, vlsr, dV, Tex):\n",
    "    model = np.zeros(datagrid_ints.shape)\n",
    "    num_lines = freqs.shape[0]\n",
    "\n",
    "    # Compute Gaussian profiles for each line and sum them\n",
    "    for i in range(num_lines):\n",
    "        velocity_grid = (freqs[i] - datagrid_freq) / freqs[i] * ckm + aligned_velocity\n",
    "        mask = np.abs(velocity_grid - aligned_velocity) < dV * 10\n",
    "\n",
    "        # Gaussian profile for the intensity at each frequency point\n",
    "        model[mask] += intensities[i] * np.exp(-0.5 * ((velocity_grid[mask] - vlsr) / (dV / 2.355))**2.)\n",
    "\n",
    "    # Apply the Planck function for thermal radiation, adjusted for the background cosmic temperature (2.7 K)\n",
    "    J_T = (h * datagrid_freq * 1e6 / k) / (np.exp((h * datagrid_freq * 1e6) / (k * Tex)) - 1 + 1e-10)\n",
    "    J_Tbg = (h * datagrid_freq * 1e6 / k) / (np.exp((h * datagrid_freq * 1e6) / (k * 2.7)) - 1 + 1e-10)\n",
    "\n",
    "    # Apply the beam dilution correction to the model\n",
    "    model = apply_beam(datagrid_freq, (J_T - J_Tbg) * (1 - np.exp(-model)), source_size, dish_size)\n",
    "    return model\n",
    "\n",
    "\n",
    "# Initialize molecular catalog\n",
    "cat_folder = os.path.join(os.getcwd(), 'CDMS_catalog')\n",
    "catfile_path = os.path.join(cat_folder, f\"{mol_name}.cat\")\n",
    "mol_cat = MolCat(mol_name, catfile_path)\n",
    "\n",
    "# Generate simulated frequencies and intensities\n",
    "freqs_model, ints_model, taus_model = predict_intensities(Ncol=Ncol, Tex=Tex, dV=dV,\n",
    "                                                          mol_cat=mol_cat, source_size=source_size)\n",
    "\n",
    "# Construct model spectrum\n",
    "model_spectrum = make_model(freqs=freqs_model, intensities=taus_model, source_size=source_size,\n",
    "                            datagrid_freq=dsn_freqs, datagrid_ints=dsn_ints,\n",
    "                            vlsr=vlsr, dV=dV, Tex=Tex)\n",
    "\n",
    "print(f\"Length of dsn_freqs: {len(dsn_freqs)}. Length of model_spectrum: {len(model_spectrum)}\")\n",
    "print(f\"Frequencies:\\n{dsn_freqs}\")\n",
    "print(f\"\\nIntensities:\\n{dsn_ints}\")\n",
    "print(f\"\\nModel Spectrum:\\n{model_spectrum}\")"
   ]
  },
  {
   "cell_type": "code",
   "execution_count": null,
   "metadata": {},
   "outputs": [],
   "source": [
    "output_filename = os.path.join(BASE_DIR, f\"{mol_name}_model_intensities.txt\")\n",
    "data_to_save = np.column_stack((dsn_freqs, dsn_ints, model_spectrum))\n",
    "\n",
    "np.savetxt(output_filename, data_to_save, \n",
    "           fmt=\"%15.8f %15.8f %15.8e\",\n",
    "           header=\"Frequency(MHz)       Intensity          Model_Spectrum\", \n",
    "           comments='')\n",
    "\n",
    "print(f\"Data saved to {output_filename}\")"
   ]
  },
  {
   "attachments": {},
   "cell_type": "markdown",
   "metadata": {},
   "source": [
    "Plot the observed data and model spectrum within each of the defined frequency bounds."
   ]
  },
  {
   "cell_type": "code",
   "execution_count": null,
   "metadata": {},
   "outputs": [],
   "source": [
    "num_bounds = len(bounds)\n",
    "cols = 3\n",
    "rows = (num_bounds + cols - 1) // cols\n",
    "fig, axs = plt.subplots(rows, cols, figsize=(14, 5 * rows))\n",
    "fig.suptitle(r'HC$_7$N in Cha-MMS1', fontsize=16, weight='bold')\n",
    "\n",
    "for i, (lower_bound, upper_bound) in enumerate(bounds):\n",
    "    # Extract observed data within the current bound\n",
    "    mask = (dsn_freqs >= lower_bound) & (dsn_freqs <= upper_bound)\n",
    "    filtered_dsn_freqs = dsn_freqs[mask]\n",
    "    filtered_dsn_ints = dsn_ints[mask]\n",
    "    \n",
    "    # Create a finer frequency grid within the current bound\n",
    "    fine_freqs = np.linspace(lower_bound, upper_bound, num=1000)\n",
    "\n",
    "    # Compute the model spectrum on the finer frequency grid\n",
    "    def make_model_fine(freqs, freqs_model, intensities_model, source_size, vlsr, dV, Tex):\n",
    "        model = np.zeros(freqs.shape)\n",
    "        num_lines = freqs_model.shape[0]\n",
    "\n",
    "        for j in range(num_lines):\n",
    "            velocity_grid = (freqs_model[j] - freqs) / freqs_model[j] * ckm + aligned_velocity\n",
    "            mask_line = np.abs(velocity_grid - aligned_velocity) < dV * 10\n",
    "\n",
    "            # Gaussian profile\n",
    "            model[mask_line] += intensities_model[j] * np.exp(-0.5 * ((velocity_grid[mask_line] - vlsr) / (dV / 2.355))**2.)\n",
    "\n",
    "        # Apply the Planck function\n",
    "        J_T = (h * freqs * 1e6 / k) / (np.exp((h * freqs * 1e6) / (k * Tex)) - 1 + 1e-10)\n",
    "        J_Tbg = (h * freqs * 1e6 / k) / (np.exp((h * freqs * 1e6) / (k * 2.7)) - 1 + 1e-10)\n",
    "\n",
    "        # Apply the beam dilution\n",
    "        model = apply_beam(freqs, (J_T - J_Tbg) * (1 - np.exp(-model)), source_size, dish_size)\n",
    "\n",
    "        return model\n",
    "\n",
    "    # Compute the model spectrum on the fine grid\n",
    "    fine_model_ints = make_model_fine(\n",
    "        freqs=fine_freqs,\n",
    "        freqs_model=freqs_model,\n",
    "        intensities_model=taus_model,\n",
    "        source_size=source_size,\n",
    "        vlsr=vlsr,\n",
    "        dV=dV,\n",
    "        Tex=Tex\n",
    "    )\n",
    "\n",
    "    # Determine the subplot axes\n",
    "    row = i // cols\n",
    "    col = i % cols\n",
    "    if rows > 1:\n",
    "        ax = axs[row, col]\n",
    "    else:\n",
    "        ax = axs[col]\n",
    "\n",
    "    # Plot DSN data (black) and model (colored)\n",
    "    ax.plot(filtered_dsn_freqs, filtered_dsn_ints, color='black', linewidth=1.5)\n",
    "    ax.scatter(filtered_dsn_freqs, filtered_dsn_ints, color='black', s=6)\n",
    "    ax.plot(fine_freqs, fine_model_ints, color='darkmagenta', linestyle='--', linewidth=1.5)\n",
    "\n",
    "    ax.set_xlabel('Frequency (MHz)')\n",
    "    ax.set_ylabel('Intensity')\n",
    "    ax.set_title(f'{lower_bound:.2f}-{upper_bound:.2f} MHz')\n",
    "\n",
    "# Hide any unused subplots\n",
    "if num_bounds < rows * cols:\n",
    "    for j in range(num_bounds, rows * cols):\n",
    "        if rows > 1:\n",
    "            fig.delaxes(axs.flatten()[j])\n",
    "        else:\n",
    "            fig.delaxes(axs[j])\n",
    "\n",
    "plt.tight_layout()\n",
    "plt.savefig(os.path.join(BASE_DIR, f\"{mol_name}_model_comparison.png\"))\n",
    "plt.show()"
   ]
  }
 ],
 "metadata": {
  "kernelspec": {
   "display_name": "myenv",
   "language": "python",
   "name": "python3"
  },
  "language_info": {
   "codemirror_mode": {
    "name": "ipython",
    "version": 3
   },
   "file_extension": ".py",
   "mimetype": "text/x-python",
   "name": "python",
   "nbconvert_exporter": "python",
   "pygments_lexer": "ipython3",
   "version": "3.9.6"
  },
  "orig_nbformat": 4
 },
 "nbformat": 4,
 "nbformat_minor": 2
}
